{
 "cells": [
  {
   "cell_type": "code",
   "execution_count": 5,
   "id": "4219ef2c-147b-4e31-a1b0-6d46d3c2cee4",
   "metadata": {},
   "outputs": [],
   "source": [
    "name= \"Shrushti Phatate\""
   ]
  },
  {
   "cell_type": "code",
   "execution_count": 7,
   "id": "86736943-b4d4-487a-86a6-617beb7f1148",
   "metadata": {},
   "outputs": [
    {
     "data": {
      "text/plain": [
       "'Shrushti Phatate'"
      ]
     },
     "execution_count": 7,
     "metadata": {},
     "output_type": "execute_result"
    }
   ],
   "source": [
    "name"
   ]
  },
  {
   "cell_type": "code",
   "execution_count": 13,
   "id": "9e30ba38-707e-4a91-a24b-296024cee5c4",
   "metadata": {},
   "outputs": [
    {
     "data": {
      "text/plain": [
       "str"
      ]
     },
     "execution_count": 13,
     "metadata": {},
     "output_type": "execute_result"
    }
   ],
   "source": [
    "type(name)"
   ]
  },
  {
   "cell_type": "code",
   "execution_count": 15,
   "id": "d3d6cde8-136d-4ed1-9f66-acd492b2d961",
   "metadata": {},
   "outputs": [
    {
     "data": {
      "text/plain": [
       "'etatahP ithsurhS'"
      ]
     },
     "execution_count": 15,
     "metadata": {},
     "output_type": "execute_result"
    }
   ],
   "source": [
    "name[15::-1]"
   ]
  },
  {
   "cell_type": "code",
   "execution_count": 19,
   "id": "213af7d5-85c4-4e21-b679-b65ce017bac4",
   "metadata": {},
   "outputs": [],
   "source": [
    "name1 =\"we are learning problem solving using computation\""
   ]
  },
  {
   "cell_type": "code",
   "execution_count": 21,
   "id": "39974866-648a-4fd1-bf70-9debac7caae9",
   "metadata": {},
   "outputs": [
    {
     "data": {
      "text/plain": [
       "'we are learning problem solving using computation'"
      ]
     },
     "execution_count": 21,
     "metadata": {},
     "output_type": "execute_result"
    }
   ],
   "source": [
    "name1"
   ]
  },
  {
   "cell_type": "code",
   "execution_count": 23,
   "id": "68241a0e-1a4a-48f0-a9af-702aa1eaf699",
   "metadata": {},
   "outputs": [
    {
     "data": {
      "text/plain": [
       "'rael era ew'"
      ]
     },
     "execution_count": 23,
     "metadata": {},
     "output_type": "execute_result"
    }
   ],
   "source": [
    "name1[10:-50:-1]"
   ]
  },
  {
   "cell_type": "code",
   "execution_count": 25,
   "id": "f974fcc8-2ae6-41bf-9e4f-6f0b9833cea7",
   "metadata": {},
   "outputs": [
    {
     "data": {
      "text/plain": [
       "'noitatupmoc gnisu gnivlos melborp gninrael era ew'"
      ]
     },
     "execution_count": 25,
     "metadata": {},
     "output_type": "execute_result"
    }
   ],
   "source": [
    "name1 [::-1]"
   ]
  },
  {
   "cell_type": "code",
   "execution_count": 27,
   "id": "8ba11f70-bf0f-4ed5-b994-85f72e3a152b",
   "metadata": {},
   "outputs": [
    {
     "data": {
      "text/plain": [
       "'apcnunl lrgne'"
      ]
     },
     "execution_count": 27,
     "metadata": {},
     "output_type": "execute_result"
    }
   ],
   "source": [
    "name1[-5:5:-3]"
   ]
  },
  {
   "cell_type": "code",
   "execution_count": 31,
   "id": "eea26ad5-b9c4-4fc6-b16f-d959985da55a",
   "metadata": {},
   "outputs": [],
   "source": [
    "name2= 34.47865"
   ]
  },
  {
   "cell_type": "code",
   "execution_count": 33,
   "id": "b8ac2460-5604-4a83-aa6e-cb11c2719979",
   "metadata": {},
   "outputs": [
    {
     "data": {
      "text/plain": [
       "34.47865"
      ]
     },
     "execution_count": 33,
     "metadata": {},
     "output_type": "execute_result"
    }
   ],
   "source": [
    "name2"
   ]
  },
  {
   "cell_type": "code",
   "execution_count": 68,
   "id": "6a4484a6-edf6-4955-ac11-bf267d41732c",
   "metadata": {},
   "outputs": [
    {
     "data": {
      "text/plain": [
       "'sHRUSHTI pHATATE'"
      ]
     },
     "execution_count": 68,
     "metadata": {},
     "output_type": "execute_result"
    }
   ],
   "source": [
    "name.swapcase()"
   ]
  },
  {
   "cell_type": "code",
   "execution_count": 72,
   "id": "4dc3c9a6-8242-42c3-ada7-64d02b235a0b",
   "metadata": {},
   "outputs": [
    {
     "data": {
      "text/plain": [
       "'Shrushti Phatate'"
      ]
     },
     "execution_count": 72,
     "metadata": {},
     "output_type": "execute_result"
    }
   ],
   "source": [
    "name"
   ]
  },
  {
   "cell_type": "code",
   "execution_count": 74,
   "id": "ea142953-e0ac-49b4-bbe2-395320a9befb",
   "metadata": {},
   "outputs": [],
   "source": [
    "name =name.swapcase()"
   ]
  },
  {
   "cell_type": "code",
   "execution_count": 76,
   "id": "9c71f2c2-7fb2-4700-8ad5-900acbc47e33",
   "metadata": {},
   "outputs": [
    {
     "data": {
      "text/plain": [
       "'sHRUSHTI pHATATE'"
      ]
     },
     "execution_count": 76,
     "metadata": {},
     "output_type": "execute_result"
    }
   ],
   "source": [
    "name"
   ]
  },
  {
   "cell_type": "code",
   "execution_count": null,
   "id": "f7e2f8a9-2cfb-4cdf-931a-9e7029ac80fd",
   "metadata": {},
   "outputs": [],
   "source": [
    "name.swapcase()= name1"
   ]
  },
  {
   "cell_type": "code",
   "execution_count": 87,
   "id": "90ff63ae-a1f0-4094-bf6c-5967e7d2a03a",
   "metadata": {},
   "outputs": [
    {
     "data": {
      "text/plain": [
       "'Shrushti Phatate'"
      ]
     },
     "execution_count": 87,
     "metadata": {},
     "output_type": "execute_result"
    }
   ],
   "source": [
    "name.swapcase()"
   ]
  },
  {
   "cell_type": "code",
   "execution_count": null,
   "id": "56fdd97d-6ef4-4b9b-97f7-21405d730085",
   "metadata": {},
   "outputs": [],
   "source": [
    "Shrushti Phatate"
   ]
  },
  {
   "cell_type": "code",
   "execution_count": 114,
   "id": "f223e3bf-f960-45b4-8e7a-cd60a29cf3c0",
   "metadata": {},
   "outputs": [],
   "source": [
    "result ='@'.join(name)+\"@\""
   ]
  },
  {
   "cell_type": "code",
   "execution_count": 118,
   "id": "b4a431f7-ecfa-4ff7-85d3-4868b133b9b7",
   "metadata": {},
   "outputs": [
    {
     "data": {
      "text/plain": [
       "'s@H@R@U@S@H@T@I@ @p@H@A@T@A@T@E@'"
      ]
     },
     "execution_count": 118,
     "metadata": {},
     "output_type": "execute_result"
    }
   ],
   "source": [
    "result"
   ]
  },
  {
   "cell_type": "code",
   "execution_count": null,
   "id": "ebb797aa-bd9e-4170-bb02-fdadfc6f86fe",
   "metadata": {},
   "outputs": [],
   "source": [
    "name5 = \"Tanushree  Jadav\""
   ]
  },
  {
   "cell_type": "code",
   "execution_count": 122,
   "id": "c20d363e-7b6e-4df0-8af2-3a58b780b09b",
   "metadata": {},
   "outputs": [
    {
     "data": {
      "text/plain": [
       "False"
      ]
     },
     "execution_count": 122,
     "metadata": {},
     "output_type": "execute_result"
    }
   ],
   "source": [
    "name.isalpha()"
   ]
  },
  {
   "cell_type": "code",
   "execution_count": 124,
   "id": "44b32e3b-b892-477a-9a0b-2aef6eadba8e",
   "metadata": {},
   "outputs": [
    {
     "data": {
      "text/plain": [
       "'sHRUSHTI pHATATE'"
      ]
     },
     "execution_count": 124,
     "metadata": {},
     "output_type": "execute_result"
    }
   ],
   "source": [
    "name"
   ]
  },
  {
   "cell_type": "code",
   "execution_count": null,
   "id": "ebc86517-4086-4c86-9b4b-5f6fe810a24f",
   "metadata": {},
   "outputs": [],
   "source": []
  },
  {
   "cell_type": "code",
   "execution_count": null,
   "id": "c55927aa-55b6-4668-a6e3-7eae71bac647",
   "metadata": {},
   "outputs": [],
   "source": []
  },
  {
   "cell_type": "code",
   "execution_count": null,
   "id": "d6083848-9391-4c8b-b80c-9ca4112b8d24",
   "metadata": {},
   "outputs": [],
   "source": []
  },
  {
   "cell_type": "code",
   "execution_count": null,
   "id": "ec233dd3-e8f7-4c00-a450-2adf32718b7f",
   "metadata": {},
   "outputs": [],
   "source": []
  },
  {
   "cell_type": "code",
   "execution_count": null,
   "id": "616ba56e-ab46-4fd1-a5a3-1cc5fc0a5fe9",
   "metadata": {},
   "outputs": [],
   "source": []
  },
  {
   "cell_type": "code",
   "execution_count": null,
   "id": "d83815c4-800b-4e71-a68e-27b4ec310354",
   "metadata": {},
   "outputs": [],
   "source": []
  },
  {
   "cell_type": "code",
   "execution_count": null,
   "id": "454e484b-1acb-4775-9fc8-54cf5ccc8f1b",
   "metadata": {},
   "outputs": [],
   "source": []
  },
  {
   "cell_type": "code",
   "execution_count": null,
   "id": "1a6a14b8-98b7-44c5-a08a-a42815fcf1c1",
   "metadata": {},
   "outputs": [],
   "source": []
  },
  {
   "cell_type": "code",
   "execution_count": null,
   "id": "1080a0cd-8de0-4a96-a441-c9a15f8e88bd",
   "metadata": {},
   "outputs": [],
   "source": []
  },
  {
   "cell_type": "code",
   "execution_count": null,
   "id": "bd29fd1e-5695-4167-bf54-a0cb6758a186",
   "metadata": {},
   "outputs": [],
   "source": []
  },
  {
   "cell_type": "code",
   "execution_count": null,
   "id": "87b07dca-31a7-47a5-9eda-2568d9252f26",
   "metadata": {},
   "outputs": [],
   "source": []
  },
  {
   "cell_type": "code",
   "execution_count": null,
   "id": "576ae3e2-d038-4643-9718-f15387b41668",
   "metadata": {},
   "outputs": [],
   "source": []
  },
  {
   "cell_type": "code",
   "execution_count": null,
   "id": "dfd1fb2f-7823-4ed9-97fa-37f89c9230d2",
   "metadata": {},
   "outputs": [],
   "source": []
  },
  {
   "cell_type": "code",
   "execution_count": null,
   "id": "36f1aac9-1528-4057-ab3c-2798cad3847f",
   "metadata": {},
   "outputs": [],
   "source": []
  },
  {
   "cell_type": "code",
   "execution_count": null,
   "id": "c1037f3c-2c7a-497f-8fcd-868437e84c2f",
   "metadata": {},
   "outputs": [],
   "source": []
  },
  {
   "cell_type": "code",
   "execution_count": null,
   "id": "43f0c4de-8f22-49bb-b63a-9f82499a5e8d",
   "metadata": {},
   "outputs": [],
   "source": []
  },
  {
   "cell_type": "code",
   "execution_count": null,
   "id": "71d976bc-936d-40e5-aadc-039daf05d281",
   "metadata": {},
   "outputs": [],
   "source": []
  },
  {
   "cell_type": "code",
   "execution_count": null,
   "id": "fdb9d5f3-18dc-4eac-868c-35cf5e6076ec",
   "metadata": {},
   "outputs": [],
   "source": []
  },
  {
   "cell_type": "code",
   "execution_count": null,
   "id": "079e987f-9d99-41d8-90e7-a87c077b20de",
   "metadata": {},
   "outputs": [],
   "source": []
  },
  {
   "cell_type": "code",
   "execution_count": null,
   "id": "b69c7a9a-9ef0-4783-8800-89218d79d159",
   "metadata": {},
   "outputs": [],
   "source": []
  },
  {
   "cell_type": "code",
   "execution_count": null,
   "id": "119c969f-29a3-4089-b61a-06129f24eb70",
   "metadata": {},
   "outputs": [],
   "source": []
  },
  {
   "cell_type": "code",
   "execution_count": null,
   "id": "ca5ffcf2-6f86-45f2-ae12-e3bb6cd69132",
   "metadata": {},
   "outputs": [],
   "source": []
  },
  {
   "cell_type": "code",
   "execution_count": null,
   "id": "921d9dc4-7a4f-466d-ba55-0cd9da6beb03",
   "metadata": {},
   "outputs": [],
   "source": []
  },
  {
   "cell_type": "code",
   "execution_count": null,
   "id": "06ddabcb-f89a-4905-902b-676194030c07",
   "metadata": {},
   "outputs": [],
   "source": []
  },
  {
   "cell_type": "code",
   "execution_count": null,
   "id": "1ff83cd2-4b39-413e-82e1-53165c43082e",
   "metadata": {},
   "outputs": [],
   "source": []
  },
  {
   "cell_type": "code",
   "execution_count": null,
   "id": "e4d31728-70f3-43b9-a7cc-262bb92cb3a5",
   "metadata": {},
   "outputs": [],
   "source": []
  },
  {
   "cell_type": "code",
   "execution_count": null,
   "id": "67932277-374d-460f-8295-40b72c8e412f",
   "metadata": {},
   "outputs": [],
   "source": []
  },
  {
   "cell_type": "code",
   "execution_count": null,
   "id": "4c6c011c-04d2-466b-bffc-3cce8bc16011",
   "metadata": {},
   "outputs": [],
   "source": []
  },
  {
   "cell_type": "code",
   "execution_count": null,
   "id": "df86b6d6-d24e-457d-9716-8877bbc9ea50",
   "metadata": {},
   "outputs": [],
   "source": []
  },
  {
   "cell_type": "code",
   "execution_count": null,
   "id": "8daa2b91-92f0-44a7-bd6f-d6c114100487",
   "metadata": {},
   "outputs": [],
   "source": []
  },
  {
   "cell_type": "code",
   "execution_count": null,
   "id": "2b5d3203-5c0e-406b-b233-db60e42cdb04",
   "metadata": {},
   "outputs": [],
   "source": []
  },
  {
   "cell_type": "code",
   "execution_count": null,
   "id": "4a75a7c0-9c0e-41eb-96d8-38b7ac9dabdd",
   "metadata": {},
   "outputs": [],
   "source": []
  },
  {
   "cell_type": "code",
   "execution_count": null,
   "id": "8a43d9d2-3c56-4016-a36d-9117084d3df7",
   "metadata": {},
   "outputs": [],
   "source": []
  },
  {
   "cell_type": "code",
   "execution_count": null,
   "id": "3e6c0eef-8f39-442b-807b-27a66c631475",
   "metadata": {},
   "outputs": [],
   "source": []
  },
  {
   "cell_type": "code",
   "execution_count": null,
   "id": "759cd03b-8bb2-4636-add7-21b9170e55ca",
   "metadata": {},
   "outputs": [],
   "source": []
  },
  {
   "cell_type": "code",
   "execution_count": null,
   "id": "2cb77d7f-a932-4a4f-b8c2-a83fd26dcfc1",
   "metadata": {},
   "outputs": [],
   "source": []
  },
  {
   "cell_type": "code",
   "execution_count": null,
   "id": "a5e2e554-3779-4620-8f9d-0060b8ffaa8e",
   "metadata": {},
   "outputs": [],
   "source": []
  },
  {
   "cell_type": "code",
   "execution_count": null,
   "id": "cedc71ab-7195-4b20-90c4-e1f651693c6c",
   "metadata": {},
   "outputs": [],
   "source": []
  },
  {
   "cell_type": "code",
   "execution_count": null,
   "id": "24e807d4-18ac-4411-b40d-d53bdd76ab8e",
   "metadata": {},
   "outputs": [],
   "source": []
  },
  {
   "cell_type": "code",
   "execution_count": null,
   "id": "94488862-45f5-46dc-9e7a-79ab6da17b42",
   "metadata": {},
   "outputs": [],
   "source": []
  },
  {
   "cell_type": "code",
   "execution_count": null,
   "id": "0dae8e8e-6b60-4e16-b662-8ea360a18e0e",
   "metadata": {},
   "outputs": [],
   "source": []
  },
  {
   "cell_type": "code",
   "execution_count": null,
   "id": "41dd6ec3-c4fb-4c04-b443-60a20dfa86c6",
   "metadata": {},
   "outputs": [],
   "source": []
  },
  {
   "cell_type": "code",
   "execution_count": null,
   "id": "9696a43a-df66-4dd5-9d96-31a4e31942c9",
   "metadata": {},
   "outputs": [],
   "source": []
  },
  {
   "cell_type": "code",
   "execution_count": null,
   "id": "3a0eccad-32c9-46bf-9477-e7f869e9c02e",
   "metadata": {},
   "outputs": [],
   "source": []
  },
  {
   "cell_type": "code",
   "execution_count": null,
   "id": "adb732e4-ab54-4627-9211-65f87d74885c",
   "metadata": {},
   "outputs": [],
   "source": []
  },
  {
   "cell_type": "code",
   "execution_count": null,
   "id": "c04dd97d-c522-4449-a957-c66740a43bef",
   "metadata": {},
   "outputs": [],
   "source": []
  },
  {
   "cell_type": "code",
   "execution_count": null,
   "id": "702fe78b-b8ae-4f33-b152-c055ddc61849",
   "metadata": {},
   "outputs": [],
   "source": []
  },
  {
   "cell_type": "code",
   "execution_count": null,
   "id": "12c84263-edf0-4a83-8d42-616dfebd847d",
   "metadata": {},
   "outputs": [],
   "source": []
  },
  {
   "cell_type": "code",
   "execution_count": null,
   "id": "3ff94aee-cdee-4a1f-959e-bf16e261ebfe",
   "metadata": {},
   "outputs": [],
   "source": []
  }
 ],
 "metadata": {
  "kernelspec": {
   "display_name": "Python 3 (ipykernel)",
   "language": "python",
   "name": "python3"
  },
  "language_info": {
   "codemirror_mode": {
    "name": "ipython",
    "version": 3
   },
   "file_extension": ".py",
   "mimetype": "text/x-python",
   "name": "python",
   "nbconvert_exporter": "python",
   "pygments_lexer": "ipython3",
   "version": "3.12.4"
  }
 },
 "nbformat": 4,
 "nbformat_minor": 5
}

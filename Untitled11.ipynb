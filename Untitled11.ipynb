{
 "cells": [
  {
   "cell_type": "code",
   "execution_count": 3,
   "id": "1de56215-afa8-4a54-93f3-cfb78e3f7d50",
   "metadata": {},
   "outputs": [],
   "source": [
    "s= \"sujal salgarkar\""
   ]
  },
  {
   "cell_type": "code",
   "execution_count": 4,
   "id": "e79d8767-ab72-4c2f-a38f-39dfcb0879a7",
   "metadata": {},
   "outputs": [
    {
     "data": {
      "text/plain": [
       "'sujal salgarkar'"
      ]
     },
     "execution_count": 4,
     "metadata": {},
     "output_type": "execute_result"
    }
   ],
   "source": [
    "s"
   ]
  },
  {
   "cell_type": "code",
   "execution_count": 7,
   "id": "3ea0a4a9-20b7-4342-9c3d-7b0dc350d793",
   "metadata": {},
   "outputs": [
    {
     "data": {
      "text/plain": [
       "'ua agr'"
      ]
     },
     "execution_count": 7,
     "metadata": {},
     "output_type": "execute_result"
    }
   ],
   "source": [
    "s[1:12:2]"
   ]
  },
  {
   "cell_type": "code",
   "execution_count": 10,
   "id": "d542900b-5b7d-405a-9fb8-e60cd0e34b35",
   "metadata": {},
   "outputs": [
    {
     "data": {
      "text/plain": [
       "15"
      ]
     },
     "execution_count": 10,
     "metadata": {},
     "output_type": "execute_result"
    }
   ],
   "source": [
    "len(s)"
   ]
  },
  {
   "cell_type": "code",
   "execution_count": 11,
   "id": "d4665956-cc42-49c4-853a-614d7dd409cf",
   "metadata": {},
   "outputs": [
    {
     "data": {
      "text/plain": [
       "'SUJAL SALGARKAR'"
      ]
     },
     "execution_count": 11,
     "metadata": {},
     "output_type": "execute_result"
    }
   ],
   "source": [
    "s.upper()"
   ]
  },
  {
   "cell_type": "code",
   "execution_count": 12,
   "id": "158e685b-dd27-4362-8a87-103962070bbd",
   "metadata": {},
   "outputs": [
    {
     "data": {
      "text/plain": [
       "['sujal', 'salgarkar']"
      ]
     },
     "execution_count": 12,
     "metadata": {},
     "output_type": "execute_result"
    }
   ],
   "source": [
    "s.split()"
   ]
  },
  {
   "cell_type": "code",
   "execution_count": 14,
   "id": "e6ebe33b-8128-42b9-95d6-9ebba3b8bccc",
   "metadata": {},
   "outputs": [
    {
     "data": {
      "text/plain": [
       "['SUJAL', 'SALGARKAR']"
      ]
     },
     "execution_count": 14,
     "metadata": {},
     "output_type": "execute_result"
    }
   ],
   "source": [
    "s.upper().split()"
   ]
  },
  {
   "cell_type": "code",
   "execution_count": 15,
   "id": "72fa0b85-d9fc-4a5d-97c2-e00d20dc6d3a",
   "metadata": {},
   "outputs": [
    {
     "data": {
      "text/plain": [
       "'sujal salgarkar'"
      ]
     },
     "execution_count": 15,
     "metadata": {},
     "output_type": "execute_result"
    }
   ],
   "source": [
    "s.lower()"
   ]
  },
  {
   "cell_type": "code",
   "execution_count": 16,
   "id": "054ff028-5bec-4152-ac18-0582187f1775",
   "metadata": {},
   "outputs": [
    {
     "data": {
      "text/plain": [
       "'Sujal salgarkar'"
      ]
     },
     "execution_count": 16,
     "metadata": {},
     "output_type": "execute_result"
    }
   ],
   "source": [
    "s.capitalize()"
   ]
  },
  {
   "cell_type": "code",
   "execution_count": 17,
   "id": "9fe3d0cf-0f85-4ac5-bf62-c595bbffe8fe",
   "metadata": {},
   "outputs": [
    {
     "data": {
      "text/plain": [
       "False"
      ]
     },
     "execution_count": 17,
     "metadata": {},
     "output_type": "execute_result"
    }
   ],
   "source": [
    "s.isalpha()"
   ]
  },
  {
   "cell_type": "code",
   "execution_count": 18,
   "id": "994227b5-806b-4d8f-940a-fc81eea47c68",
   "metadata": {},
   "outputs": [
    {
     "data": {
      "text/plain": [
       "False"
      ]
     },
     "execution_count": 18,
     "metadata": {},
     "output_type": "execute_result"
    }
   ],
   "source": [
    "s.isalnum()"
   ]
  },
  {
   "cell_type": "code",
   "execution_count": 27,
   "id": "65a3d968-2cf0-4637-b69d-abad682dc449",
   "metadata": {},
   "outputs": [],
   "source": [
    "s1= \"shrushti1@\""
   ]
  },
  {
   "cell_type": "code",
   "execution_count": 28,
   "id": "3d4b976c-33ec-4f48-a15d-5541ee0ec348",
   "metadata": {},
   "outputs": [
    {
     "data": {
      "text/plain": [
       "'shrushti1@'"
      ]
     },
     "execution_count": 28,
     "metadata": {},
     "output_type": "execute_result"
    }
   ],
   "source": [
    "s1"
   ]
  },
  {
   "cell_type": "code",
   "execution_count": 29,
   "id": "143103ea-9c8e-4efa-a9e0-26a8894830ed",
   "metadata": {},
   "outputs": [
    {
     "data": {
      "text/plain": [
       "False"
      ]
     },
     "execution_count": 29,
     "metadata": {},
     "output_type": "execute_result"
    }
   ],
   "source": [
    "s1.isalnum()"
   ]
  },
  {
   "cell_type": "code",
   "execution_count": 30,
   "id": "92762ceb-9184-4714-bdcb-f606a37daa24",
   "metadata": {},
   "outputs": [
    {
     "data": {
      "text/plain": [
       "False"
      ]
     },
     "execution_count": 30,
     "metadata": {},
     "output_type": "execute_result"
    }
   ],
   "source": [
    "s1.isalpha()"
   ]
  },
  {
   "cell_type": "code",
   "execution_count": 47,
   "id": "f636bb4b-4411-4bd5-9f06-9e220ee83a6c",
   "metadata": {},
   "outputs": [],
   "source": [
    "s2=\"     hello world     \""
   ]
  },
  {
   "cell_type": "code",
   "execution_count": 48,
   "id": "6eb6b36f-e035-45c3-858d-a95c5c8b2483",
   "metadata": {},
   "outputs": [
    {
     "data": {
      "text/plain": [
       "'     hello world     '"
      ]
     },
     "execution_count": 48,
     "metadata": {},
     "output_type": "execute_result"
    }
   ],
   "source": [
    "s2"
   ]
  },
  {
   "cell_type": "code",
   "execution_count": 49,
   "id": "dc75a416-70c6-4ebf-aa34-b01fa9d51255",
   "metadata": {},
   "outputs": [
    {
     "data": {
      "text/plain": [
       "'hello world     '"
      ]
     },
     "execution_count": 49,
     "metadata": {},
     "output_type": "execute_result"
    }
   ],
   "source": [
    "s2.lstrip()"
   ]
  },
  {
   "cell_type": "code",
   "execution_count": 50,
   "id": "aad4ae1a-ec23-4942-be03-808880871e48",
   "metadata": {},
   "outputs": [
    {
     "data": {
      "text/plain": [
       "'     hello world'"
      ]
     },
     "execution_count": 50,
     "metadata": {},
     "output_type": "execute_result"
    }
   ],
   "source": [
    "s2.rstrip()"
   ]
  },
  {
   "cell_type": "code",
   "execution_count": 51,
   "id": "b696f1fe-ca08-4348-915a-277fed3200b1",
   "metadata": {},
   "outputs": [
    {
     "data": {
      "text/plain": [
       "'hello world'"
      ]
     },
     "execution_count": 51,
     "metadata": {},
     "output_type": "execute_result"
    }
   ],
   "source": [
    "s2.strip()"
   ]
  },
  {
   "cell_type": "code",
   "execution_count": 63,
   "id": "1ae992ff-11e8-4483-880f-e2348614fedc",
   "metadata": {},
   "outputs": [],
   "source": [
    "text=\"hel\\tlo\\two\\trld\""
   ]
  },
  {
   "cell_type": "code",
   "execution_count": 64,
   "id": "3f1e03c7-56df-42df-b901-11b39d458c1f",
   "metadata": {},
   "outputs": [
    {
     "data": {
      "text/plain": [
       "'hel\\tlo\\two\\trld'"
      ]
     },
     "execution_count": 64,
     "metadata": {},
     "output_type": "execute_result"
    }
   ],
   "source": [
    "text"
   ]
  },
  {
   "cell_type": "code",
   "execution_count": 80,
   "id": "82e647e8-83a4-470a-b812-3453366c9c27",
   "metadata": {},
   "outputs": [
    {
     "data": {
      "text/plain": [
       "'hel     lo      wo      rld'"
      ]
     },
     "execution_count": 80,
     "metadata": {},
     "output_type": "execute_result"
    }
   ],
   "source": [
    "text.expandtabs()"
   ]
  },
  {
   "cell_type": "code",
   "execution_count": 83,
   "id": "df4eee85-43c9-4f25-9833-e54a3990d5ef",
   "metadata": {},
   "outputs": [],
   "source": [
    "name=\"shrushti\""
   ]
  },
  {
   "cell_type": "code",
   "execution_count": 84,
   "id": "94445d66-448c-4cc0-b0c3-7e9e7492dc1c",
   "metadata": {},
   "outputs": [
    {
     "data": {
      "text/plain": [
       "'shrushti'"
      ]
     },
     "execution_count": 84,
     "metadata": {},
     "output_type": "execute_result"
    }
   ],
   "source": [
    "name"
   ]
  },
  {
   "cell_type": "code",
   "execution_count": 86,
   "id": "fe45241c-6e84-40d9-9c80-204eaafde23f",
   "metadata": {},
   "outputs": [
    {
     "data": {
      "text/plain": [
       "'phatate'"
      ]
     },
     "execution_count": 86,
     "metadata": {},
     "output_type": "execute_result"
    }
   ],
   "source": [
    "name.replace(\"shrushti\",\"phatate\")"
   ]
  },
  {
   "cell_type": "code",
   "execution_count": null,
   "id": "842f8d51-1737-455c-aa63-3e60ab2ec515",
   "metadata": {},
   "outputs": [],
   "source": []
  },
  {
   "cell_type": "code",
   "execution_count": null,
   "id": "c09d18ec-f265-4d49-9e2f-100efb15de2a",
   "metadata": {},
   "outputs": [],
   "source": []
  },
  {
   "cell_type": "code",
   "execution_count": null,
   "id": "d8030d1f-ef77-4d7e-b417-423818ccf491",
   "metadata": {},
   "outputs": [],
   "source": []
  },
  {
   "cell_type": "code",
   "execution_count": null,
   "id": "a14c8fa1-a864-4e9e-a711-db1836957082",
   "metadata": {},
   "outputs": [],
   "source": []
  },
  {
   "cell_type": "code",
   "execution_count": null,
   "id": "4b617c89-50ec-4490-b9d5-fb5fb390caeb",
   "metadata": {},
   "outputs": [],
   "source": []
  },
  {
   "cell_type": "code",
   "execution_count": null,
   "id": "32ea9182-3994-47d0-b57a-e33dcff961fb",
   "metadata": {},
   "outputs": [],
   "source": []
  },
  {
   "cell_type": "code",
   "execution_count": null,
   "id": "f0785c14-f277-4e41-b752-a9aebfceb5e3",
   "metadata": {},
   "outputs": [],
   "source": []
  },
  {
   "cell_type": "code",
   "execution_count": null,
   "id": "46689aea-c203-4175-843d-e868c188900d",
   "metadata": {},
   "outputs": [],
   "source": []
  },
  {
   "cell_type": "code",
   "execution_count": null,
   "id": "4835455c-6aa0-4c56-aecd-fb8657ad3bf4",
   "metadata": {},
   "outputs": [],
   "source": []
  },
  {
   "cell_type": "code",
   "execution_count": null,
   "id": "066aa54d-b3f3-4472-8da5-93585801e378",
   "metadata": {},
   "outputs": [],
   "source": []
  },
  {
   "cell_type": "code",
   "execution_count": null,
   "id": "b099a61e-ac50-4f02-8716-fcf3b89186a4",
   "metadata": {},
   "outputs": [],
   "source": []
  },
  {
   "cell_type": "code",
   "execution_count": null,
   "id": "a8dffa01-c716-4004-9c74-9a040906f316",
   "metadata": {},
   "outputs": [],
   "source": []
  },
  {
   "cell_type": "code",
   "execution_count": null,
   "id": "373d87f3-466d-4c68-8dc6-aa30d9f691b4",
   "metadata": {},
   "outputs": [],
   "source": []
  },
  {
   "cell_type": "code",
   "execution_count": null,
   "id": "054f959c-6e83-4bb3-85e3-306e26b0bf24",
   "metadata": {},
   "outputs": [],
   "source": []
  },
  {
   "cell_type": "code",
   "execution_count": null,
   "id": "20cc6206-a2c6-4b67-b678-da0beb60523f",
   "metadata": {},
   "outputs": [],
   "source": []
  },
  {
   "cell_type": "code",
   "execution_count": null,
   "id": "f9405837-dba6-4ef8-9fca-a185207df0ae",
   "metadata": {},
   "outputs": [],
   "source": []
  },
  {
   "cell_type": "code",
   "execution_count": null,
   "id": "60485f98-36dd-4037-93eb-12d37a248429",
   "metadata": {},
   "outputs": [],
   "source": []
  }
 ],
 "metadata": {
  "kernelspec": {
   "display_name": "Python 3 (ipykernel)",
   "language": "python",
   "name": "python3"
  },
  "language_info": {
   "codemirror_mode": {
    "name": "ipython",
    "version": 3
   },
   "file_extension": ".py",
   "mimetype": "text/x-python",
   "name": "python",
   "nbconvert_exporter": "python",
   "pygments_lexer": "ipython3",
   "version": "3.12.4"
  }
 },
 "nbformat": 4,
 "nbformat_minor": 5
}
